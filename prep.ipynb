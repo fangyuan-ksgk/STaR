{
 "cells": [
  {
   "cell_type": "code",
   "execution_count": null,
   "metadata": {},
   "outputs": [],
   "source": [
    "from src.utils import STaRPipeline\n",
    "\n",
    "# Example usage\n",
    "question = \"Tell me about the products you have at FWD\"\n",
    "answer_choices = [\n",
    "    \"a. Sure! FWD offers a range of insurance products, including life insurance, health insurance, and investment-linked insurance plans.\",\n",
    "    \"b. FWD has a variety of insurance products that could help you in different life stages\",\n",
    "    \"c. Absolutely, let me introduce FWD products to you!\",\n",
    "    \"d. I don't know what product FWD offer, I am expecting you to tell me about them, you are the sales here.\"\n",
    "]\n",
    "correct_answer = \"d\"\n",
    "\n",
    "question_list = [question]\n",
    "answer_choices_list = [answer_choices]\n",
    "answer_list = [correct_answer]\n",
    "\n",
    "data = {\n",
    "    \"question\": question_list,\n",
    "    \"answer_choices\": answer_choices_list,\n",
    "    \"answer\": answer_list\n",
    "}\n",
    "\n",
    "pipe = STaRPipeline(\n",
    "    model_id=\"Ksgk-fy/ecoach_phil_v11_3\", \n",
    "    roleplay_prompt=\"Roleplay as Maria, a Filipina woman having a conversation with an FWD insurance agent.\",\n",
    "    data=data\n",
    ")\n",
    "\n",
    "pipe.process_datapoints()"
   ]
  }
 ],
 "metadata": {
  "language_info": {
   "name": "python"
  }
 },
 "nbformat": 4,
 "nbformat_minor": 2
}
