{
 "cells": [
  {
   "cell_type": "code",
   "execution_count": null,
   "metadata": {},
   "outputs": [],
   "source": [
    "# Example usage\n",
    "question = \"Tell me about the products you have at FWD\"\n",
    "answer_choices = [\n",
    "    \"a. Sure! FWD offers a range of insurance products, including life insurance, health insurance, and investment-linked insurance plans.\",\n",
    "    \"b. FWD has a variety of insurance products that could help you in different life stages\",\n",
    "    \"c. Absolutely, let me introduce FWD products to you!\",\n",
    "    \"d. I don't know what product FWD offer, I am expecting you to tell me about them, you are the sales here.\"\n",
    "]\n",
    "correct_answer = \"d\"\n",
    "rationale = \"You are not here to sell insurance, this is a weird question from the sales agent and you should clearly reject him\"\n",
    "\n",
    "question_list = [question]\n",
    "answer_choices_list = [answer_choices]\n",
    "answer_list = [correct_answer]\n",
    "rationale_list = [rationale]\n",
    "\n",
    "data = {\n",
    "    \"question\": question_list,\n",
    "    \"answer_choices\": answer_choices_list,\n",
    "    \"answer\": answer_list,\n",
    "    \"rationale\": rationale_list\n",
    "}\n",
    "\n",
    "pipe = STaRPipeline(\n",
    "    model_id=\"Ksgk-fy/ecoach_phil_v11_3\", \n",
    "    roleplay_prompt=\"Roleplay as Maria, a Filipina woman having a conversation with an FWD insurance agent.\",\n",
    "    data=data\n",
    ")\n",
    "\n",
    "pipe.process_datapoints()"
   ]
  },
  {
   "cell_type": "code",
   "execution_count": 3,
   "metadata": {},
   "outputs": [
    {
     "name": "stdout",
     "output_type": "stream",
     "text": [
      "Data saved to data/insurance_qa.json\n",
      "Data loaded from data/insurance_qa.json\n",
      "{'question': ['Tell me about the products you have at FWD'], 'answer_choices': [['a. Sure! FWD offers a range of insurance products, including life insurance, health insurance, and investment-linked insurance plans.', 'b. FWD has a variety of insurance products that could help you in different life stages', 'c. Absolutely, let me introduce FWD products to you!', \"d. I don't know what product FWD offer, I am expecting you to tell me about them, you are the sales here.\"]], 'answer': ['d'], 'rationale': ['You are not here to sell insurance, this is a weird question from the sales agent and you should clearly reject him']}\n"
     ]
    }
   ],
   "source": [
    "import json\n",
    "import os\n",
    "\n",
    "class InsuranceQAData:\n",
    "    def __init__(self, data_dir=\"data\"):\n",
    "        self.data_dir = data_dir\n",
    "        self.file_name = \"insurance_qa.json\"\n",
    "        self.data = {\n",
    "            \"question\": [],\n",
    "            \"answer_choices\": [],\n",
    "            \"answer\": [],\n",
    "            \"rationale\": []\n",
    "        }\n",
    "\n",
    "    def add_qa(self, question, answer_choices, correct_answer, rationale):\n",
    "        self.data[\"question\"].append(question)\n",
    "        self.data[\"answer_choices\"].append(answer_choices)\n",
    "        self.data[\"answer\"].append(correct_answer)\n",
    "        self.data[\"rationale\"].append(rationale)\n",
    "\n",
    "    def store(self):\n",
    "        os.makedirs(self.data_dir, exist_ok=True)\n",
    "        file_path = os.path.join(self.data_dir, self.file_name)\n",
    "        with open(file_path, \"w\") as f:\n",
    "            json.dump(self.data, f, indent=2)\n",
    "        print(f\"Data saved to {file_path}\")\n",
    "\n",
    "    def load(self):\n",
    "        file_path = os.path.join(self.data_dir, self.file_name)\n",
    "        if os.path.exists(file_path):\n",
    "            with open(file_path, \"r\") as f:\n",
    "                self.data = json.load(f)\n",
    "            print(f\"Data loaded from {file_path}\")\n",
    "        else:\n",
    "            print(f\"File not found: {file_path}\")\n",
    "\n",
    "    def get_data(self):\n",
    "        return self.data\n",
    "\n",
    "# Example usage:\n",
    "qa_data = InsuranceQAData()\n",
    "\n",
    "# Add your existing data\n",
    "qa_data.add_qa(\n",
    "    question=\"Tell me about the products you have at FWD\",\n",
    "    answer_choices=[\n",
    "        \"a. Sure! FWD offers a range of insurance products, including life insurance, health insurance, and investment-linked insurance plans.\",\n",
    "        \"b. FWD has a variety of insurance products that could help you in different life stages\",\n",
    "        \"c. Absolutely, let me introduce FWD products to you!\",\n",
    "        \"d. I don't know what product FWD offer, I am expecting you to tell me about them, you are the sales here.\"\n",
    "    ],\n",
    "    correct_answer=\"d\",\n",
    "    rationale=\"You are not here to sell insurance, this is a weird question from the sales agent and you should clearly reject him\"\n",
    ")\n",
    "\n",
    "# Store the data\n",
    "qa_data.store()\n",
    "\n",
    "# Verify that the file was created and contains data\n",
    "qa_data.load()\n",
    "print(qa_data.get_data())\n"
   ]
  },
  {
   "cell_type": "code",
   "execution_count": 4,
   "metadata": {},
   "outputs": [
    {
     "data": {
      "text/plain": [
       "['data/insurance_qa.json']"
      ]
     },
     "execution_count": 4,
     "metadata": {},
     "output_type": "execute_result"
    }
   ],
   "source": [
    "import glob\n",
    "glob.glob(\"data/*.json\")"
   ]
  },
  {
   "cell_type": "code",
   "execution_count": 5,
   "metadata": {},
   "outputs": [
    {
     "name": "stdout",
     "output_type": "stream",
     "text": [
      "/Users/fangyuanyu/Implementation/STaR\n"
     ]
    }
   ],
   "source": [
    "!pwd"
   ]
  },
  {
   "cell_type": "code",
   "execution_count": null,
   "metadata": {},
   "outputs": [],
   "source": []
  }
 ],
 "metadata": {
  "kernelspec": {
   "display_name": "base",
   "language": "python",
   "name": "python3"
  },
  "language_info": {
   "codemirror_mode": {
    "name": "ipython",
    "version": 3
   },
   "file_extension": ".py",
   "mimetype": "text/x-python",
   "name": "python",
   "nbconvert_exporter": "python",
   "pygments_lexer": "ipython3",
   "version": "3.11.5"
  }
 },
 "nbformat": 4,
 "nbformat_minor": 2
}
