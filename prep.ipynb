{
 "cells": [
  {
   "cell_type": "markdown",
   "metadata": {},
   "source": [
    "#### Run Pipelines"
   ]
  },
  {
   "cell_type": "code",
   "execution_count": 1,
   "metadata": {},
   "outputs": [
    {
     "name": "stdout",
     "output_type": "stream",
     "text": [
      "Data loaded from data/insurance_qa.json\n",
      "Data loaded from data/star_insurance_qa.json\n"
     ]
    }
   ],
   "source": [
    "from src import QAData, STaRPipeline\n",
    "\n",
    "qa_data = QAData()\n",
    "\n",
    "# pipe = STaRPipeline(\n",
    "#     model_id=\"Ksgk-fy/ecoach_phil_v11_3\", \n",
    "#     roleplay_prompt=\"Roleplay as Maria, a Filipina woman having a conversation with an FWD insurance agent.\",\n",
    "#     data=qa_data.data,\n",
    "#     num_rationales=50\n",
    "# )\n",
    "\n",
    "# pipe.process_datapoints()"
   ]
  },
  {
   "cell_type": "code",
   "execution_count": 2,
   "metadata": {},
   "outputs": [],
   "source": [
    "msg_list = qa_data.prep_data()"
   ]
  },
  {
   "cell_type": "markdown",
   "metadata": {},
   "source": [
    "#### Add New Issues"
   ]
  },
  {
   "cell_type": "code",
   "execution_count": 3,
   "metadata": {},
   "outputs": [
    {
     "name": "stdout",
     "output_type": "stream",
     "text": [
      "Data loaded from data/qa.json\n",
      "Data loaded from data/star_qa.json\n",
      "Data saved to data/qa.json\n",
      "Data saved to data/star_qa.json\n"
     ]
    }
   ],
   "source": [
    "from src.dataclass import QAData\n",
    "\n",
    "# Example usage:\n",
    "qa_data = QAData()\n",
    "\n",
    "# # Add your existing data\n",
    "qa_data.add_qa(\n",
    "    question=\"I will like to share with you about our policies that can help you achieve your financial goal\",\n",
    "    answer_choices=[\n",
    "        \"a. Huh?\",\n",
    "        \"b. Can you say that again?\",\n",
    "        \"c. What was that?\",\n",
    "        \"d. Oh boy, another sales pitch. Let me grab my popcorn!\",\n",
    "    ],\n",
    "    correct_answer=\"d\",\n",
    "    rationale=\"You're interested in learning about FWD's insurance products, but the agent's approach seems impersonal and scripted, as if they use the same pitch for everyone. Despite this, you should let him continue.\"\n",
    ")\n",
    "\n",
    "# Store the data\n",
    "qa_data.store()"
   ]
  },
  {
   "cell_type": "code",
   "execution_count": null,
   "metadata": {},
   "outputs": [],
   "source": []
  }
 ],
 "metadata": {
  "kernelspec": {
   "display_name": "base",
   "language": "python",
   "name": "python3"
  },
  "language_info": {
   "codemirror_mode": {
    "name": "ipython",
    "version": 3
   },
   "file_extension": ".py",
   "mimetype": "text/x-python",
   "name": "python",
   "nbconvert_exporter": "python",
   "pygments_lexer": "ipython3",
   "version": "3.11.5"
  }
 },
 "nbformat": 4,
 "nbformat_minor": 2
}
