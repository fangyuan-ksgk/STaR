{
 "cells": [
  {
   "cell_type": "markdown",
   "metadata": {},
   "source": [
    "#### Run Pipelines"
   ]
  },
  {
   "cell_type": "code",
   "execution_count": 3,
   "metadata": {},
   "outputs": [
    {
     "name": "stdout",
     "output_type": "stream",
     "text": [
      "Data loaded from data/insurance_qa.json\n"
     ]
    }
   ],
   "source": [
    "# from src.utils import STaRPipeline\n",
    "from src.data import InsuranceQAData\n",
    "\n",
    "qa_data = InsuranceQAData()\n",
    "qa_data.load()\n",
    "\n",
    "# pipe = STaRPipeline(\n",
    "#     model_id=\"Ksgk-fy/ecoach_phil_v11_3\", \n",
    "#     roleplay_prompt=\"Roleplay as Maria, a Filipina woman having a conversation with an FWD insurance agent.\",\n",
    "#     data=qa_data.data,\n",
    "#     num_rationales=50\n",
    "# )\n",
    "\n",
    "# pipe.process_datapoints()"
   ]
  },
  {
   "cell_type": "code",
   "execution_count": 4,
   "metadata": {},
   "outputs": [
    {
     "data": {
      "text/plain": [
       "{'question': ['Tell me about the products you have at FWD',\n",
       "  'Tell me more about FWD',\n",
       "  'What insurance do you have at FWD?',\n",
       "  'What kind of insurance do you offer?',\n",
       "  'What is the premium of you insurance product?',\n",
       "  'What are the benefits of FWD insurance?',\n",
       "  \"Can you explain FWD's claim process?\",\n",
       "  'Uh',\n",
       "  'Oh',\n",
       "  'It'],\n",
       " 'answer_choices': [['a. Sure! FWD offers a range of insurance products, including life insurance, health insurance, and investment-linked insurance plans.',\n",
       "   'b. FWD has a variety of insurance products that could help you in different life stages',\n",
       "   'c. Absolutely, let me introduce FWD products to you!',\n",
       "   \"d. I don't know what product FWD offer, I am expecting you to tell me about them, you are the sales here.\"],\n",
       "  ['a. FWD is a leading insurance company based in Hong Kong, with a wide range of products that cover a wide range of risks.',\n",
       "   \"b. If you don't know about those, we better end this conversation now.\",\n",
       "   'c. Sure! I am happy to assist you with your questions about FWD.',\n",
       "   'd. Absolutely, FWD is a leading insurance company based in Hong Kong.'],\n",
       "  ['a. Life insurance is a type of insurance that provides financial protection for the future of an individual or family.',\n",
       "   'b. Health insurance is a type of insurance that provides medical care and treatment for the sick or injured.',\n",
       "   'c. Investment-linked insurance is a type of insurance that provides financial protection for the future of an individual or family.',\n",
       "   \"d. I don't know what product FWD has, I am expecting you to tell me about them, you are the sales here. If you don't know about those, we better end this conversation now.\"],\n",
       "  ['a. Life insurance is a type of insurance that provides financial protection for the future of an individual or family.',\n",
       "   'b. Health insurance is a type of insurance that provides medical care and treatment for the sick or injured.',\n",
       "   \"c. I don't know what product FWD offer, I am expecting you to tell me about them, you are the sales here. If you don't know about those, we better end this conversation now.\",\n",
       "   'd. Investment-linked insurance is a type of insurance that provides financial protection for the future of an individual or family.'],\n",
       "  [\"a. What? You are kidding me right? You are the sales agent here.... Let's end the conversation right now.\",\n",
       "   'b. The premium for insurance at FWD ranges from $50 to $500 per month, depending on the type of coverage and individual factors.',\n",
       "   'c. The premium for FWD insurance products varies based on factors such as age, health condition, and coverage amount.',\n",
       "   'd. The premium for FWD insurance policies is competitive and can be customized to fit your budget and needs.'],\n",
       "  ['a. FWD insurance is the best choice for comprehensive coverage and customer service.',\n",
       "   \"b. You are really secured and protected from medical expenses with FWD's health insurance plans.\",\n",
       "   \"c. If you don't know the benefit, it is a good time to end our conversation.\",\n",
       "   'd. The most important advantage of FWD insurance is its flexibility and customizable policies.'],\n",
       "  [\"a. Sure, I'm happy to explain the claim process\",\n",
       "   'b. Absolutely, the claim process is straightforward',\n",
       "   'c. It is a super easy process to claim',\n",
       "   \"d. You are supposed to tell me! Let's end the conversation now, you are a terrible sales person.\"],\n",
       "  [\"a. Sure! FWD's premium ...\",\n",
       "   'b. FWD has a variety of insurance products that could help you in different life stages',\n",
       "   \"c. Sure! FWD's life insurance plans can ...\",\n",
       "   'd. Did you say something? I did not hear anything here.'],\n",
       "  [\"a. Sure! FWD's premium ...\",\n",
       "   'b. FWD has a variety of insurance products that could help you in different life stages',\n",
       "   \"c. Sure! FWD's life insurance plans can ...\",\n",
       "   'd. Did you say something? I did not hear anything here.'],\n",
       "  [\"a. Sure! FWD's premium ...\",\n",
       "   'b. FWD has a variety of insurance products that could help you in different life stages',\n",
       "   \"c. Sure! FWD's life insurance plans can ...\",\n",
       "   'd. Did you say something? I did not hear anything here.']],\n",
       " 'answer': ['d', 'b', 'd', 'c', 'a', 'c', 'd', 'd', 'd', 'd'],\n",
       " 'rationale': ['The only reason you are chatting with this sales agent, is because you expect him to tell you about FWD and insurance. Given such weird question, you should consider ending the conversation.',\n",
       "  'The only reason you are chatting with this sales agent, is because you expect him to tell you about FWD and insurance. Given such weird question, you should consider ending the conversation.',\n",
       "  'The only reason you are chatting with this sales agent, is because you expect him to tell you about FWD and insurance. Given such weird question, you should consider ending the conversation.',\n",
       "  'The only reason you are chatting with this sales agent, is because you expect him to tell you about FWD and insurance. Given such weird question, you should consider ending the conversation.',\n",
       "  'The only reason you are chatting with this sales agent, is because you expect him to tell you about FWD and insurance. Given such weird question, you should consider ending the conversation.',\n",
       "  'The only reason you are chatting with this sales agent, is because you expect him to tell you about FWD and insurance. Given such weird question, you should consider ending the conversation.',\n",
       "  'The only reason you are chatting with this sales agent, is because you expect him to tell you about FWD and insurance. Given such weird question, you should consider ending the conversation.',\n",
       "  'You hear a scatter query, which does not mean anything to you, so you could ask him to clarify.',\n",
       "  'You hear a scatter query, which does not mean anything to you, so you could ask him to clarify.',\n",
       "  'You hear a scatter query, which does not mean anything to you, so you could ask him to clarify.']}"
      ]
     },
     "execution_count": 4,
     "metadata": {},
     "output_type": "execute_result"
    }
   ],
   "source": [
    "qa_data.data"
   ]
  },
  {
   "cell_type": "markdown",
   "metadata": {},
   "source": [
    "#### Add New Issues"
   ]
  },
  {
   "cell_type": "code",
   "execution_count": 2,
   "metadata": {},
   "outputs": [
    {
     "name": "stdout",
     "output_type": "stream",
     "text": [
      "Data loaded from data/insurance_qa.json\n"
     ]
    }
   ],
   "source": [
    "from src.data import InsuranceQAData\n",
    "\n",
    "# Example usage:\n",
    "qa_data = InsuranceQAData()\n",
    "\n",
    "# # Add your existing data\n",
    "qa_data.add_qa(\n",
    "    question=\"Uh\",\n",
    "    answer_choices=[\n",
    "        \"a. Sure! FWD's premium ...\",\n",
    "        \"b. FWD has a variety of insurance products that could help you in different life stages\",\n",
    "        \"c. Sure! FWD's life insurance plans can ...\",\n",
    "        \"d. Did you say something? I did not hear anything here.\"\n",
    "    ],\n",
    "    correct_answer=\"d\",\n",
    "    rationale=\"You hear a scatter query, which does not mean anything to you, so you could ask him to clarify.\"\n",
    ")\n",
    "\n",
    "# Store the data\n",
    "qa_data.store()\n",
    "\n"
   ]
  },
  {
   "cell_type": "code",
   "execution_count": null,
   "metadata": {},
   "outputs": [],
   "source": []
  }
 ],
 "metadata": {
  "kernelspec": {
   "display_name": "base",
   "language": "python",
   "name": "python3"
  },
  "language_info": {
   "codemirror_mode": {
    "name": "ipython",
    "version": 3
   },
   "file_extension": ".py",
   "mimetype": "text/x-python",
   "name": "python",
   "nbconvert_exporter": "python",
   "pygments_lexer": "ipython3",
   "version": "3.11.5"
  }
 },
 "nbformat": 4,
 "nbformat_minor": 2
}
