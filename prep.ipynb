{
 "cells": [
  {
   "cell_type": "markdown",
   "metadata": {},
   "source": [
    "#### Run Pipelines"
   ]
  },
  {
   "cell_type": "code",
   "execution_count": 3,
   "metadata": {},
   "outputs": [],
   "source": [
    "# from src.utils import STaRPipeline\n",
    "from src.data import InsuranceQAData\n",
    "\n",
    "qa_data = InsuranceQAData()\n",
    "\n",
    "pipe = STaRPipeline(\n",
    "    model_id=\"Ksgk-fy/ecoach_phil_v11_3\", \n",
    "    roleplay_prompt=\"Roleplay as Maria, a Filipina woman having a conversation with an FWD insurance agent.\",\n",
    "    data=qa_data.data,\n",
    "    num_rationales=50\n",
    ")\n",
    "\n",
    "pipe.process_datapoints()"
   ]
  },
  {
   "cell_type": "markdown",
   "metadata": {},
   "source": [
    "#### Add New Issues"
   ]
  },
  {
   "cell_type": "code",
   "execution_count": 2,
   "metadata": {},
   "outputs": [
    {
     "name": "stdout",
     "output_type": "stream",
     "text": [
      "Data loaded from data/insurance_qa.json\n"
     ]
    }
   ],
   "source": [
    "from src.data import InsuranceQAData\n",
    "\n",
    "# Example usage:\n",
    "qa_data = InsuranceQAData()\n",
    "\n",
    "# # Add your existing data\n",
    "qa_data.add_qa(\n",
    "    question=\"Uh\",\n",
    "    answer_choices=[\n",
    "        \"a. Sure! FWD's premium ...\",\n",
    "        \"b. FWD has a variety of insurance products that could help you in different life stages\",\n",
    "        \"c. Sure! FWD's life insurance plans can ...\",\n",
    "        \"d. Did you say something? I did not hear anything here.\"\n",
    "    ],\n",
    "    correct_answer=\"d\",\n",
    "    rationale=\"You hear a scatter query, which does not mean anything to you, so you could ask him to clarify.\"\n",
    ")\n",
    "\n",
    "# Store the data\n",
    "qa_data.store()\n",
    "\n"
   ]
  },
  {
   "cell_type": "code",
   "execution_count": null,
   "metadata": {},
   "outputs": [],
   "source": []
  }
 ],
 "metadata": {
  "kernelspec": {
   "display_name": "base",
   "language": "python",
   "name": "python3"
  },
  "language_info": {
   "codemirror_mode": {
    "name": "ipython",
    "version": 3
   },
   "file_extension": ".py",
   "mimetype": "text/x-python",
   "name": "python",
   "nbconvert_exporter": "python",
   "pygments_lexer": "ipython3",
   "version": "3.11.5"
  }
 },
 "nbformat": 4,
 "nbformat_minor": 2
}
